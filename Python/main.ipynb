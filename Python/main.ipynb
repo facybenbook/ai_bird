{
 "cells": [
  {
   "cell_type": "markdown",
   "metadata": {},
   "source": [
    "# Bird Trainning\n",
    "\n",
    "## Deep Q Network (DQN)\n",
    "\n",
    "利用dqn神经网络训练小鸟学会飞行...\n",
    "\n",
    "项目对应blog地址：https://huailiang.github.io/2018/03/23/reinforcement3/"
   ]
  },
  {
   "cell_type": "code",
   "execution_count": null,
   "metadata": {},
   "outputs": [],
   "source": [
    "#coding=utf8\n",
    "\n",
    "from dqn_environment import UnityEnvironment\n",
    "\n",
    "file_name=\"bird\"\n",
    "\n",
    "env = UnityEnvironment(file_name)\n",
    "\n",
    "print str(env)"
   ]
  },
  {
   "cell_type": "code",
   "execution_count": null,
   "metadata": {},
   "outputs": [],
   "source": []
  }
 ],
 "metadata": {
  "anaconda-cloud": {},
  "kernelspec": {
   "display_name": "Python 2",
   "language": "python",
   "name": "python2"
  },
  "language_info": {
   "codemirror_mode": {
    "name": "ipython",
    "version": 2
   },
   "file_extension": ".py",
   "mimetype": "text/x-python",
   "name": "python",
   "nbconvert_exporter": "python",
   "pygments_lexer": "ipython2",
   "version": "2.7.10"
  }
 },
 "nbformat": 4,
 "nbformat_minor": 1
}
